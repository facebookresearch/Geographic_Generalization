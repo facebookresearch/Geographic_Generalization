{
 "cells": [
  {
   "attachments": {},
   "cell_type": "markdown",
   "metadata": {},
   "source": [
    "#### Using GeoDE Data "
   ]
  },
  {
   "attachments": {},
   "cell_type": "markdown",
   "metadata": {},
   "source": [
    "##### DataLoaders"
   ]
  },
  {
   "cell_type": "code",
   "execution_count": 6,
   "metadata": {},
   "outputs": [
    {
     "name": "stdout",
     "output_type": "stream",
     "text": [
      "Using 1k mapping for GeoDE\n",
      "Using 1k mapping for GeoDE\n",
      "Using 1k mapping for GeoDE\n",
      "\n",
      "Num samples, Train: 33110\n",
      "Num samples, Val: 11076\n",
      "Num samples, Test: 10984\n"
     ]
    }
   ],
   "source": [
    "from datasets.geode import GeodeDataModule\n",
    "\n",
    "train_dl = GeodeDataModule(batch_size=1).train_dataloader()\n",
    "val_dl = GeodeDataModule(batch_size=1).val_dataloader()\n",
    "test_dl = GeodeDataModule(batch_size=1).test_dataloader()\n",
    "\n",
    "print(\"\\nNum samples, Train:\", len(train_dl))\n",
    "print(\"Num samples, Val:\",len(val_dl))\n",
    "print(\"Num samples, Test:\",len(test_dl))"
   ]
  },
  {
   "attachments": {},
   "cell_type": "markdown",
   "metadata": {},
   "source": [
    "##### Batch Structure"
   ]
  },
  {
   "cell_type": "code",
   "execution_count": 7,
   "metadata": {},
   "outputs": [
    {
     "name": "stdout",
     "output_type": "stream",
     "text": [
      "A regular batch with 1K labels...\n",
      "\n",
      "Image shape:  torch.Size([1, 3, 224, 224])\n",
      "Label: ['919']\n",
      "ID:  tensor([22568])\n"
     ]
    }
   ],
   "source": [
    "# How batch is structured (default is 1K labels, stored as a comma joined string):\n",
    "print(\"A regular batch with 1K labels...\\n\")\n",
    "X, y, id = next(iter(train_dl))\n",
    "print(\"Image shape: \", X.shape)\n",
    "print(\"Label:\", y)\n",
    "print(\"ID: \", id) "
   ]
  },
  {
   "attachments": {},
   "cell_type": "markdown",
   "metadata": {},
   "source": [
    "##### Getting Original Labels"
   ]
  },
  {
   "cell_type": "code",
   "execution_count": 8,
   "metadata": {},
   "outputs": [
    {
     "name": "stdout",
     "output_type": "stream",
     "text": [
      "Using GeoDE original labels\n",
      "\n",
      "A batch with GeoDE labels...\n",
      "\n",
      "Image shape:  torch.Size([1, 3, 224, 224])\n",
      "Label: tensor([3])\n",
      "ID:  tensor([10757])\n"
     ]
    }
   ],
   "source": [
    "# How to get GeoDE Labels\n",
    "train_dl = GeodeDataModule(batch_size=1, label_col=\"object_index\").train_dataloader()\n",
    "\n",
    "X, y, id = next(iter(train_dl))\n",
    "print(\"\\nA batch with GeoDE labels...\\n\")\n",
    "print(\"Image shape: \", X.shape)\n",
    "print(\"Label:\", y)\n",
    "print(\"ID: \", id) "
   ]
  },
  {
   "attachments": {},
   "cell_type": "markdown",
   "metadata": {},
   "source": [
    "#### Using DollarStreet Data"
   ]
  },
  {
   "attachments": {},
   "cell_type": "markdown",
   "metadata": {},
   "source": [
    "##### DataLoaders"
   ]
  },
  {
   "cell_type": "code",
   "execution_count": 1,
   "metadata": {},
   "outputs": [
    {
     "name": "stdout",
     "output_type": "stream",
     "text": [
      "Using 1k mapping for DollarStreet\n",
      "Using 1k mapping for DollarStreet\n",
      "\n",
      "Num samples, Train: 17228\n",
      "Num samples, Test: 4308\n"
     ]
    }
   ],
   "source": [
    "from datasets.dollarstreet_kaggle import DollarstreetDataset, DollarStreetDataModule\n",
    "\n",
    "train_dl = DollarStreetDataModule(batch_size=1).train_dataloader()\n",
    "test_dl = DollarStreetDataModule(batch_size=1).test_dataloader()\n",
    "\n",
    "print(\"\\nNum samples, Train:\", len(train_dl))\n",
    "print(\"Num samples, Test:\",len(test_dl))\n"
   ]
  },
  {
   "attachments": {},
   "cell_type": "markdown",
   "metadata": {},
   "source": [
    "##### Batch Structure"
   ]
  },
  {
   "cell_type": "code",
   "execution_count": 2,
   "metadata": {},
   "outputs": [
    {
     "name": "stdout",
     "output_type": "stream",
     "text": [
      "A regular batch with 1K labels...\n",
      "\n",
      "Image shape:  torch.Size([1, 3, 224, 224])\n",
      "Label: ['844,846']\n",
      "ID:  ['5fd2292d955d2f758665bffc']\n"
     ]
    }
   ],
   "source": [
    "# How a batch is structured (default is 1K labels, stored as a comma joined string):\n",
    "print(\"A regular batch with 1K labels...\\n\")\n",
    "X, y, id = next(iter(train_dl))\n",
    "print(\"Image shape: \", X.shape)\n",
    "print(\"Label:\", y)\n",
    "print(\"ID: \", id) "
   ]
  },
  {
   "attachments": {},
   "cell_type": "markdown",
   "metadata": {},
   "source": [
    "##### Using Original Labels"
   ]
  },
  {
   "cell_type": "code",
   "execution_count": 3,
   "metadata": {},
   "outputs": [
    {
     "name": "stdout",
     "output_type": "stream",
     "text": [
      "Using DollarStreet original labels\n",
      "\n",
      "A batch with DollarStreet labels...\n",
      "\n",
      "Image shape:  torch.Size([1, 3, 224, 224])\n",
      "Label: ['43']\n",
      "ID:  ['5d4bdf28cf0b3a0f3f337369']\n"
     ]
    }
   ],
   "source": [
    "# How to get DollarStreet Labels\n",
    "train_dl = DollarStreetDataModule(batch_size=1, label_col=\"topic_indices\").train_dataloader()\n",
    "\n",
    "X, y, id = next(iter(train_dl))\n",
    "print(\"\\nA batch with DollarStreet labels...\\n\")\n",
    "print(\"Image shape: \", X.shape)\n",
    "print(\"Label:\", y)\n",
    "print(\"ID: \", id) "
   ]
  }
 ],
 "metadata": {
  "kernelspec": {
   "display_name": "Python 3",
   "language": "python",
   "name": "python3"
  },
  "language_info": {
   "codemirror_mode": {
    "name": "ipython",
    "version": 3
   },
   "file_extension": ".py",
   "mimetype": "text/x-python",
   "name": "python",
   "nbconvert_exporter": "python",
   "pygments_lexer": "ipython3",
   "version": "3.9.16"
  },
  "orig_nbformat": 4
 },
 "nbformat": 4,
 "nbformat_minor": 2
}
